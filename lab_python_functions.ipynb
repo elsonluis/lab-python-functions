{
  "cells": [
    {
      "cell_type": "markdown",
      "id": "25d7736c-ba17-4aff-b6bb-66eba20fbf4e",
      "metadata": {
        "id": "25d7736c-ba17-4aff-b6bb-66eba20fbf4e"
      },
      "source": [
        "# Lab | Functions"
      ]
    },
    {
      "cell_type": "markdown",
      "id": "0c581062-8967-4d93-b06e-62833222f930",
      "metadata": {
        "tags": [],
        "id": "0c581062-8967-4d93-b06e-62833222f930"
      },
      "source": [
        "## Exercise: Managing Customer Orders with Functions\n",
        "\n",
        "In the previous exercise, you improved the code for managing customer orders by using loops and flow control. Now, let's take it a step further and refactor the code by introducing functions.\n",
        "\n",
        "Follow the steps below to complete the exercise:\n",
        "\n",
        "1. Define a function named `initialize_inventory` that takes `products` as a parameter. Inside the function, implement the code for initializing the inventory dictionary using a loop and user input.\n",
        "\n",
        "2. Define a function named `get_customer_orders` that takes no parameters. Inside the function, implement the code for prompting the user to enter the product names using a loop. The function should return the `customer_orders` set.\n",
        "\n",
        "3. Define a function named `update_inventory` that takes `customer_orders` and `inventory` as parameters. Inside the function, implement the code for updating the inventory dictionary based on the customer orders.\n",
        "\n",
        "4. Define a function named `calculate_order_statistics` that takes `customer_orders` and `products` as parameters. Inside the function, implement the code for calculating the order statistics (total products ordered, and percentage of unique products ordered). The function should return these values.\n",
        "\n",
        "5. Define a function named `print_order_statistics` that takes `order_statistics` as a parameter. Inside the function, implement the code for printing the order statistics.\n",
        "\n",
        "6. Define a function named `print_updated_inventory` that takes `inventory` as a parameter. Inside the function, implement the code for printing the updated inventory.\n",
        "\n",
        "7. Call the functions in the appropriate sequence to execute the program and manage customer orders.\n",
        "\n",
        "Hints for functions:\n",
        "\n",
        "- Consider the input parameters required for each function and their return values.\n",
        "- Utilize function parameters and return values to transfer data between functions.\n",
        "- Test your functions individually to ensure they work correctly.\n",
        "\n",
        "\n"
      ]
    },
    {
      "cell_type": "code",
      "source": [
        "products = [\"t-shirt\", \"mug\", \"hat\", \"book\", \"keychain\"]\n",
        "inventory = {}\n",
        "\n",
        "\n",
        "def initialize_inventory (products):\n",
        "  for product in products:\n",
        "    quantity = int(input(f'Please input the number of products {product}: '))\n",
        "    inventory[product] = quantity\n",
        "  return inventory\n",
        "inventory = initialize_inventory(products)\n",
        "\n",
        "print(inventory)"
      ],
      "metadata": {
        "colab": {
          "base_uri": "https://localhost:8080/"
        },
        "id": "p7tdmAmNFnRq",
        "outputId": "da72ff02-c55e-4101-b164-6e43210c8356"
      },
      "id": "p7tdmAmNFnRq",
      "execution_count": 1,
      "outputs": [
        {
          "output_type": "stream",
          "name": "stdout",
          "text": [
            "Please input the number of products t-shirt: 3\n",
            "Please input the number of products mug: 4\n",
            "Please input the number of products hat: 2\n",
            "Please input the number of products book: 5\n",
            "Please input the number of products keychain: 7\n",
            "{'t-shirt': 3, 'mug': 4, 'hat': 2, 'book': 5, 'keychain': 7}\n"
          ]
        }
      ]
    },
    {
      "cell_type": "code",
      "source": [
        "def get_customer_orders ():\n",
        "  customer_orders = set()\n",
        "\n",
        "  while True:\n",
        "    product = input(\"please enter the product you want: \").lower()\n",
        "\n",
        "    if product == \"done\":\n",
        "       break\n",
        "    else:\n",
        "      customer_orders.add(product)\n",
        "\n",
        "  return customer_orders\n",
        "\n",
        "\n",
        "orders = get_customer_orders()\n",
        "print(\"customer_orders\", orders)"
      ],
      "metadata": {
        "colab": {
          "base_uri": "https://localhost:8080/"
        },
        "id": "Af04_v0BGJSv",
        "outputId": "2e21f837-603a-48e4-b0f2-92ea45c063e3"
      },
      "id": "Af04_v0BGJSv",
      "execution_count": 2,
      "outputs": [
        {
          "output_type": "stream",
          "name": "stdout",
          "text": [
            "please enter the product you want: hat\n",
            "please enter the product you want: book\n",
            "please enter the product you want: mug\n",
            "please enter the product you want: t-shirt\n",
            "please enter the product you want: keychain\n",
            "please enter the product you want: hat\n",
            "please enter the product you want: book\n",
            "please enter the product you want: done\n",
            "customer_orders {'book', 't-shirt', 'hat', 'mug', 'keychain'}\n"
          ]
        }
      ]
    },
    {
      "cell_type": "code",
      "source": [
        "def update_inventory(customer_orders, inventory):\n",
        "  for product in customer_orders:\n",
        "    if product in inventory and inventory[product] > 0:\n",
        "      inventory[product] -= 1\n",
        "  return inventory\n",
        "\n",
        "inventory = update_inventory(orders, inventory)  # Pass the customer_orders and inventory\n",
        "print(\"Updated Inventory:\", inventory)"
      ],
      "metadata": {
        "colab": {
          "base_uri": "https://localhost:8080/"
        },
        "id": "v2DUXwl2GWSn",
        "outputId": "d458fb0b-be96-45e4-c5c7-bba0d4feb117"
      },
      "id": "v2DUXwl2GWSn",
      "execution_count": 6,
      "outputs": [
        {
          "output_type": "stream",
          "name": "stdout",
          "text": [
            "Updated Inventory: {'t-shirt': 2, 'mug': 3, 'hat': 1, 'book': 4, 'keychain': 6}\n"
          ]
        }
      ]
    },
    {
      "cell_type": "code",
      "source": [
        "customer_orders = {'mug', 'book', 'hat'}\n",
        "\n",
        "def update_inventory(customers_orders,inventory):  #Define a function named update_inventory that takes customer_orders and inventory as parameters.\n",
        "    for product in customers_orders:\n",
        "        if product in inventory and inventory[product] > 0:\n",
        "            inventory[product] -= 1\n",
        "    return(inventory)\n",
        "inventory = update_inventory(customer_orders,inventory)\n",
        "print(\"Update Inventory:\",inventory)"
      ],
      "metadata": {
        "colab": {
          "base_uri": "https://localhost:8080/"
        },
        "id": "QWIDjtt6G66e",
        "outputId": "ca6d54fb-0e2b-41a0-98c2-aa9a96f97a40"
      },
      "id": "QWIDjtt6G66e",
      "execution_count": 7,
      "outputs": [
        {
          "output_type": "stream",
          "name": "stdout",
          "text": [
            "Update Inventory: {'t-shirt': 2, 'mug': 2, 'hat': 0, 'book': 3, 'keychain': 6}\n"
          ]
        }
      ]
    },
    {
      "cell_type": "code",
      "source": [
        "\n",
        "def calculate_order_statistics(customer_orders, products):\n",
        "  order_products = len(customer_orders)\n",
        "  available_products = len(products)\n",
        "  percentage = (order_products/available_products)*100\n",
        "\n",
        "  return (order_products,percentage)\n",
        "\n",
        "order_statistics = calculate_order_statistics(customer_orders,products)\n",
        "\n",
        "print(order_statistics)"
      ],
      "metadata": {
        "colab": {
          "base_uri": "https://localhost:8080/"
        },
        "id": "1bOxhm8jIYkM",
        "outputId": "5a49fa58-61e2-4258-9b62-562e43851224"
      },
      "id": "1bOxhm8jIYkM",
      "execution_count": 8,
      "outputs": [
        {
          "output_type": "stream",
          "name": "stdout",
          "text": [
            "(3, 60.0)\n"
          ]
        }
      ]
    },
    {
      "cell_type": "code",
      "source": [
        "def print_order_statistics(order_statistics):\n",
        "    ordered_products,percentage = order_statistics\n",
        "    print(\"Total products ordered:\",ordered_products)\n",
        "    print(\"percentage of products\",percentage,\"%\")\n",
        "print_order_statistics(order_statistics)"
      ],
      "metadata": {
        "colab": {
          "base_uri": "https://localhost:8080/"
        },
        "id": "HWlvp-6vIs1o",
        "outputId": "9dc89dec-0afb-4ce5-9dcc-a4448b41ef6c"
      },
      "id": "HWlvp-6vIs1o",
      "execution_count": 9,
      "outputs": [
        {
          "output_type": "stream",
          "name": "stdout",
          "text": [
            "Total products ordered: 3\n",
            "percentage of products 60.0 %\n"
          ]
        }
      ]
    },
    {
      "cell_type": "code",
      "source": [
        "def print_updated_inventory (inventory):\n",
        "    for product, quantity in inventory.items():\n",
        "        print(f\"{product}:{quantity}\")\n",
        "print_updated_inventory(inventory)\n",
        "inventory = initialize_inventory (products)\n",
        "customers_orders = get_customer_orders()\n",
        "inventory = update_inventory(customers_orders,inventory)\n",
        "order_statistics = calculate_order_statistics(customers_orders,products)\n",
        "print_order_statistics(order_statistics)\n",
        "print_updated_inventory (inventory)"
      ],
      "metadata": {
        "colab": {
          "base_uri": "https://localhost:8080/"
        },
        "id": "XjZske01IxEF",
        "outputId": "c08a2db9-3614-4f16-ca41-e4f67047ee6d"
      },
      "id": "XjZske01IxEF",
      "execution_count": 11,
      "outputs": [
        {
          "output_type": "stream",
          "name": "stdout",
          "text": [
            "t-shirt:2\n",
            "mug:4\n",
            "hat:3\n",
            "book:6\n",
            "keychain:7\n",
            "Please input the number of products t-shirt: 2\n",
            "Please input the number of products mug: 4\n",
            "Please input the number of products hat: 3\n",
            "Please input the number of products book: 5\n",
            "Please input the number of products keychain: 8\n",
            "please enter the product you want: hat\n",
            "please enter the product you want: book\n",
            "please enter the product you want: mug\n",
            "please enter the product you want: t-shirt\n",
            "please enter the product you want: done\n",
            "Total products ordered: 4\n",
            "percentage of products 80.0 %\n",
            "t-shirt:1\n",
            "mug:3\n",
            "hat:2\n",
            "book:4\n",
            "keychain:8\n"
          ]
        }
      ]
    },
    {
      "cell_type": "code",
      "source": [],
      "metadata": {
        "id": "Z7EljdplI0lS"
      },
      "id": "Z7EljdplI0lS",
      "execution_count": null,
      "outputs": []
    }
  ],
  "metadata": {
    "kernelspec": {
      "display_name": "Python 3 (ipykernel)",
      "language": "python",
      "name": "python3"
    },
    "language_info": {
      "codemirror_mode": {
        "name": "ipython",
        "version": 3
      },
      "file_extension": ".py",
      "mimetype": "text/x-python",
      "name": "python",
      "nbconvert_exporter": "python",
      "pygments_lexer": "ipython3",
      "version": "3.9.13"
    },
    "colab": {
      "provenance": []
    }
  },
  "nbformat": 4,
  "nbformat_minor": 5
}